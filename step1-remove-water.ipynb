{
 "cells": [
  {
   "cell_type": "code",
   "execution_count": 1,
   "metadata": {},
   "outputs": [],
   "source": [
    "import os\n",
    "import numpy as np\n",
    "from pymol import *\n",
    "\n",
    "list=os.listdir()\n",
    "list1=[i for i in list if \"protein\" in i]\n",
    "list2=[i.split('_')[0] for i in list1]\n",
    "\n",
    "with open('pdb-name','w') as f:\n",
    "      for i in list2:\n",
    "#       f.write(str(i)+'\\n')\n",
    "        f.write(str(i)+'\\t')\n",
    "        \n",
    "        \n",
    "with open('pdb-name','r') as f:\n",
    "      for i in f.readlines():\n",
    "          name=i\n",
    "\n",
    "name=name.strip().split()\n",
    "#cmd.save('test.pdb','chain '+'B ' + 'and ' + 'resn '+'SER')\n",
    "#cmd.save('test.pdb',' 5ml3_protein '+ 'and ' + 'resn '+'SER')\n",
    "name_p=[]\n",
    "name_p=[str(x)+'_protein.pdb' for x in name]\n",
    "\n",
    "\n",
    "\n",
    "def rmsol_p(name_pro):\n",
    "  for i in name_pro:\n",
    "    if os.path.exists(i):\n",
    "         cmd.load(i)\n",
    "         cmd.remove('solvent')\n",
    "         newname=i.split('_')[0]\n",
    "         newnamew=i.split('.')[0]\n",
    "         newname=newname+'.pdb'\n",
    "         cmd.save(newname,newnamew)\n",
    "    else:\n",
    "         print(\"%s File is not accessible.\" % i)\n",
    "                                                              \n"
   ]
  },
  {
   "cell_type": "code",
   "execution_count": 4,
   "metadata": {},
   "outputs": [],
   "source": [
    " rmsol_p(name_p)"
   ]
  },
  {
   "cell_type": "code",
   "execution_count": 6,
   "metadata": {},
   "outputs": [],
   "source": []
  },
  {
   "cell_type": "code",
   "execution_count": 8,
   "metadata": {},
   "outputs": [],
   "source": []
  },
  {
   "cell_type": "code",
   "execution_count": null,
   "metadata": {},
   "outputs": [],
   "source": []
  },
  {
   "cell_type": "code",
   "execution_count": 34,
   "metadata": {},
   "outputs": [],
   "source": []
  },
  {
   "cell_type": "code",
   "execution_count": 35,
   "metadata": {},
   "outputs": [],
   "source": []
  },
  {
   "cell_type": "code",
   "execution_count": 39,
   "metadata": {},
   "outputs": [],
   "source": [
    "\n"
   ]
  },
  {
   "cell_type": "code",
   "execution_count": null,
   "metadata": {},
   "outputs": [],
   "source": []
  },
  {
   "cell_type": "code",
   "execution_count": null,
   "metadata": {},
   "outputs": [],
   "source": []
  },
  {
   "cell_type": "code",
   "execution_count": null,
   "metadata": {},
   "outputs": [],
   "source": []
  }
 ],
 "metadata": {
  "kernelspec": {
   "display_name": "nian-env",
   "language": "python",
   "name": "nian-env"
  },
  "language_info": {
   "codemirror_mode": {
    "name": "ipython",
    "version": 3
   },
   "file_extension": ".py",
   "mimetype": "text/x-python",
   "name": "python",
   "nbconvert_exporter": "python",
   "pygments_lexer": "ipython3",
   "version": "3.6.10"
  }
 },
 "nbformat": 4,
 "nbformat_minor": 2
}
